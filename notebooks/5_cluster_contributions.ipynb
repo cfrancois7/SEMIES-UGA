{
 "cells": [
  {
   "cell_type": "code",
   "execution_count": 1,
   "id": "46f6df5b",
   "metadata": {},
   "outputs": [],
   "source": [
    "from pandas import DataFrame\n",
    "import numpy as np\n",
    "import matplotlib.pyplot as plt\n",
    "import pandas as pd\n",
    "from datasets import load_dataset\n",
    "import networkx as nx\n",
    "from itertools import combinations\n"
   ]
  },
  {
   "cell_type": "code",
   "execution_count": 2,
   "id": "b6de236c",
   "metadata": {},
   "outputs": [],
   "source": [
    "# Login using e.g. `huggingface-cli login` to access this dataset\n",
    "ds = load_dataset(\"perspectiva-solution/embeddings-gdn-question-163\")['train']\n",
    "df = ds.to_pandas()\n",
    "df = df[df.cluster_id != -1].sample(n=10000, random_state=1234) # Remove idea which were not clustered"
   ]
  },
  {
   "cell_type": "code",
   "execution_count": 3,
   "id": "a456424a",
   "metadata": {},
   "outputs": [],
   "source": [
    "# TODO Probably refactor as object since we keep passing personas around\n",
    "\n",
    "def characterize_node(idx, personas, id_col=\"cluster_title\"):\n",
    "    \"\"\"Return common contributions of the community\n",
    "\n",
    "    Args:\n",
    "        idx (_type_): _description_\n",
    "    \"\"\"\n",
    "    msk = df.contribution_id.isin(personas[idx])\n",
    "    community_demands = df[msk].groupby(id_col)[\"cluster_title\"].count()\n",
    "    return (community_demands / community_demands.sum()).sort_values(ascending=False)\n",
    "\n",
    "    \n",
    "n_clusters = df.cluster_title.nunique()\n",
    "def node_to_vec(node, personas):\n",
    "    char = characterize_node(node, personas, id_col=\"cluster_id\")\n",
    "    vec = np.zeros((n_clusters))\n",
    "    for _, row in pd.DataFrame(char).reset_index().iterrows():\n",
    "        vec[int(row.cluster_id)] = row.cluster_title\n",
    "    return vec\n",
    "\n",
    "def make_title(demands, topk=5):\n",
    "    title = \"\"\n",
    "    for row_idx in range(topk):\n",
    "        row_value = demands.iloc[row_idx]\n",
    "        demand = demands.index[row_idx]\n",
    "        title += f\"{demand} ({row_value * 100:.2f}%)\\n\"\n",
    "    return title\n",
    "\n",
    "def return_IoU(node_i, node_j, personas):\n",
    "    contributions_i = personas[node_i]\n",
    "    contributions_j = personas[node_j]\n",
    "\n",
    "    demands_i = df.loc[df.contribution_id.isin(contributions_i), \"cluster_title\"].unique()\n",
    "    demands_j = df.loc[df.contribution_id.isin(contributions_j), \"cluster_title\"].unique()\n",
    "    intersection = set(demands_i).intersection(set(demands_j))\n",
    "    union = set(demands_i).union(set(demands_j))\n",
    "    return len(intersection) / len(union)"
   ]
  },
  {
   "cell_type": "code",
   "execution_count": 4,
   "id": "009f5caf",
   "metadata": {},
   "outputs": [],
   "source": [
    "G = nx.Graph()\n",
    "G.add_nodes_from(df.contribution_id) # A node is a contribution\n",
    "\n",
    "# Add edge if two nodes belong to the same cluster\n",
    "for title, subdf in df.groupby(\"cluster_title\"):\n",
    "    edges = tuple(combinations(subdf.contribution_id.to_list(), 2))\n",
    "    for edge in edges:\n",
    "        if G.has_edge(*edge):\n",
    "            G.edges[*edge][\"weight\"] += 1\n",
    "        else:\n",
    "            G.add_edge(*edge, weight=1)"
   ]
  },
  {
   "cell_type": "code",
   "execution_count": 5,
   "id": "64d9024f",
   "metadata": {},
   "outputs": [],
   "source": [
    "partition = nx.community.louvain_communities(\n",
    "    G, weight=\"weight\", resolution=1, seed=2025\n",
    ")"
   ]
  },
  {
   "cell_type": "code",
   "execution_count": 6,
   "id": "9f2a96d2",
   "metadata": {},
   "outputs": [],
   "source": [
    "# Big partitions could be personas\n",
    "personas = []\n",
    "threshold = len(df) // 100\n",
    "for node_set in partition:\n",
    "    if len(node_set) >= threshold:\n",
    "        personas.append(node_set)\n"
   ]
  },
  {
   "cell_type": "code",
   "execution_count": 7,
   "id": "0a036922",
   "metadata": {},
   "outputs": [],
   "source": [
    "def compute_null_IoU(node_i, node_j, n_perms):\n",
    "    contributions_i = personas[node_i]\n",
    "    contributions_j = personas[node_j]\n",
    "\n",
    "    n_i = df.loc[df.contribution_id.isin(contributions_i), \"cluster_id\"].unique()\n",
    "    n_j = df.loc[df.contribution_id.isin(contributions_j), \"cluster_id\"].unique()\n",
    "    for _ in range(n_perms):\n",
    "        pass\n",
    "        "
   ]
  },
  {
   "cell_type": "code",
   "execution_count": 32,
   "id": "16ee2b0c",
   "metadata": {},
   "outputs": [],
   "source": [
    "from scipy.spatial.distance import cosine, euclidean\n",
    "# Graph of Louvain communities\n",
    "H = nx.Graph()\n",
    "H.add_nodes_from(range(len(personas)))\n",
    "\n",
    "weights = []\n",
    "for node_pair in combinations(H.nodes, 2):\n",
    "    vec_a, vec_b = node_to_vec(node_pair[0], personas), node_to_vec(node_pair[1], personas)\n",
    "    sim = 1 - euclidean(vec_a, vec_b)\n",
    "    weights.append(sim)\n",
    "    #if sim > 0.4:\n",
    "    H.add_edge(\n",
    "        *node_pair,\n",
    "        value=sim,\n",
    "        hidden=False,\n",
    "        #title=\"\\n\".join(return_intersection(1, 2)) # TODO I will return\n",
    "    )"
   ]
  },
  {
   "cell_type": "code",
   "execution_count": 33,
   "id": "a3a933d7",
   "metadata": {},
   "outputs": [
    {
     "data": {
      "image/png": "[encoded data removed]",
      "text/plain": [
       "<Figure size 640x480 with 1 Axes>"
      ]
     },
     "metadata": {},
     "output_type": "display_data"
    }
   ],
   "source": [
    "plt.hist(np.array(weights))\n",
    "plt.title(\"Between communities similarity\")\n",
    "plt.xlabel(\"Pairwise cosine similarity\")\n",
    "plt.ylabel(\"Count\")\n",
    "plt.show()"
   ]
  },
  {
   "cell_type": "code",
   "execution_count": 34,
   "id": "6c6df95c",
   "metadata": {},
   "outputs": [],
   "source": [
    "max_comm_size = max((len(p) for p in personas))\n",
    "size_factor = 100 / max_comm_size\n",
    "for community in H.nodes:\n",
    "    community_demands = characterize_node(community, personas)\n",
    "    H.nodes[community][\"title\"] = make_title(community_demands)\n",
    "    H.nodes[community][\"size\"] = len(personas[community]) * size_factor"
   ]
  },
  {
   "cell_type": "code",
   "execution_count": 35,
   "id": "8d3f970f",
   "metadata": {},
   "outputs": [
    {
     "name": "stdout",
     "output_type": "stream",
     "text": [
      "communities.html\n"
     ]
    }
   ],
   "source": [
    "from pyvis.network import Network\n",
    "nt = Network(\"500px\", \"1000px\")\n",
    "nt.force_atlas_2based()\n",
    "nt.from_nx(H)\n",
    "nt.toggle_physics(True)\n",
    "nt.show_buttons(filter_=[\"physics\"])\n",
    "\n",
    "\n",
    "nt.options[\"interaction\"].__dict__[\"selectConnectedEdges\"] = True\n",
    "\n",
    "nt.show(\"communities.html\", notebook=False)"
   ]
  }
 ],
 "metadata": {
  "kernelspec": {
   "display_name": ".venv",
   "language": "python",
   "name": "python3"
  },
  "language_info": {
   "codemirror_mode": {
    "name": "ipython",
    "version": 3
   },
   "file_extension": ".py",
   "mimetype": "text/x-python",
   "name": "python",
   "nbconvert_exporter": "python",
   "pygments_lexer": "ipython3",
   "version": "3.12.2"
  }
 },
 "nbformat": 4,
 "nbformat_minor": 5
}
