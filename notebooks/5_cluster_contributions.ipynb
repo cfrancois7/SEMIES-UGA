{
 "cells": [
  {
   "cell_type": "code",
   "execution_count": 1,
   "id": "46f6df5b",
   "metadata": {},
   "outputs": [],
   "source": [
    "from pandas import DataFrame\n",
    "import numpy as np\n",
    "import matplotlib.pyplot as plt\n",
    "from datasets import load_dataset\n",
    "import networkx as nx\n",
    "from itertools import combinations\n"
   ]
  },
  {
   "cell_type": "code",
   "execution_count": 2,
   "id": "b6de236c",
   "metadata": {},
   "outputs": [],
   "source": [
    "# Login using e.g. `huggingface-cli login` to access this dataset\n",
    "ds = load_dataset(\"perspectiva-solution/embeddings-gdn-question-163\")['train']\n",
    "df = ds.to_pandas()\n",
    "df = df[df.cluster_id != -1].sample(n=10000, random_state=1234) # Remove idea which were not clustered"
   ]
  },
  {
   "cell_type": "code",
   "execution_count": 3,
   "id": "009f5caf",
   "metadata": {},
   "outputs": [],
   "source": [
    "# TODO Valuation on edges\n",
    "G = nx.Graph()\n",
    "G.add_nodes_from(df.contribution_id) # A node is a contribution\n",
    "\n",
    "# Add edge if two nodes belong to the same cluster\n",
    "for title, subdf in df.groupby(\"cluster_title\"):\n",
    "    edges = tuple(combinations(subdf.contribution_id.to_list(), 2))\n",
    "    G.add_edges_from(edges)"
   ]
  },
  {
   "cell_type": "code",
   "execution_count": 19,
   "id": "64d9024f",
   "metadata": {},
   "outputs": [],
   "source": [
    "partition = nx.community.louvain_communities(G, resolution=1, seed=2025)"
   ]
  },
  {
   "cell_type": "code",
   "execution_count": 20,
   "id": "9f2a96d2",
   "metadata": {},
   "outputs": [],
   "source": [
    "# Big partitions could be personas\n",
    "personas = []\n",
    "threshold = len(df) // 100\n",
    "for node_set in partition:\n",
    "    if len(node_set) >= threshold:\n",
    "        personas.append(node_set)\n"
   ]
  },
  {
   "cell_type": "code",
   "execution_count": 22,
   "id": "16ee2b0c",
   "metadata": {},
   "outputs": [],
   "source": [
    "# Graph of Louvain communities\n",
    "H = nx.Graph()\n",
    "H.add_nodes_from(range(len(personas)))"
   ]
  },
  {
   "cell_type": "code",
   "execution_count": 68,
   "id": "a3166193",
   "metadata": {},
   "outputs": [],
   "source": [
    "def characterize_node(idx):\n",
    "    \"\"\"Return common contributions of the community\n",
    "\n",
    "    Args:\n",
    "        idx (_type_): _description_\n",
    "    \"\"\"\n",
    "    msk = df.contribution_id.isin(personas[idx])\n",
    "    community_demands = list(df[msk].groupby(\"cluster_id\")[\"cluster_title\"].unique())\n",
    "    community_demands = df[msk].groupby(\"cluster_title\")[\"cluster_title\"].count()\n",
    "    return (community_demands / community_demands.sum()).sort_values(ascending=False)\n",
    "\n",
    "    \n",
    "def make_title(demands, topk=5):\n",
    "    title = \"\"\n",
    "    for row_idx in range(topk):\n",
    "        row_value = demands.iloc[row_idx]\n",
    "        demand = demands.index[row_idx]\n",
    "        title += f\"{demand} ({row_value * 100:.2f}%)\\n\"\n",
    "    return title\n"
   ]
  },
  {
   "cell_type": "code",
   "execution_count": 69,
   "id": "6c6df95c",
   "metadata": {},
   "outputs": [],
   "source": [
    "# Map n on size\n",
    "for community in H.nodes:\n",
    "    community_demands = characterize_node(community)\n",
    "    H.nodes[community][\"title\"] = make_title(community_demands)\n",
    "    H.nodes[community][\"size\"] = len(personas[community]) // 10"
   ]
  },
  {
   "cell_type": "code",
   "execution_count": 70,
   "id": "8d3f970f",
   "metadata": {},
   "outputs": [
    {
     "name": "stdout",
     "output_type": "stream",
     "text": [
      "communities.html\n"
     ]
    }
   ],
   "source": [
    "from pyvis.network import Network\n",
    "nt = Network(\"500px\", \"500px\")\n",
    "nt.from_nx(H)\n",
    "nt.toggle_physics(True)\n",
    "nt.show(\"communities.html\", notebook=False)"
   ]
  }
 ],
 "metadata": {
  "kernelspec": {
   "display_name": ".venv",
   "language": "python",
   "name": "python3"
  },
  "language_info": {
   "codemirror_mode": {
    "name": "ipython",
    "version": 3
   },
   "file_extension": ".py",
   "mimetype": "text/x-python",
   "name": "python",
   "nbconvert_exporter": "python",
   "pygments_lexer": "ipython3",
   "version": "3.12.2"
  }
 },
 "nbformat": 4,
 "nbformat_minor": 5
}
