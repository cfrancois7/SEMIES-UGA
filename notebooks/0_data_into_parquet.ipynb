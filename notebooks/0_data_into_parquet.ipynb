{
 "cells": [
  {
   "cell_type": "markdown",
   "id": "08dbcedd",
   "metadata": {},
   "source": [
    "# Get the data into the right format"
   ]
  },
  {
   "cell_type": "markdown",
   "id": "292cd6f3",
   "metadata": {
    "vscode": {
     "languageId": "plaintext"
    }
   },
   "source": [
    "The purpose of this section is to prepare the data into one storage format easier to manipulate or edit than exchange format such as CSV or JSON. As CSV or JSON are useful to exchange data, they are very limited when we need to manipulate or query the data.\n",
    "\n",
    "In this section, we deal with:\n",
    "1. download the raw data from  [data.gouv.fr](https://www.data.gouv.fr/fr/datasets/donnees-ouvertes-du-grand-debat-national/)\n",
    "2. transform the data into the more proper format\n",
    "3. example to query / access the data"
   ]
  },
  {
   "cell_type": "markdown",
   "id": "b758fa81",
   "metadata": {},
   "source": [
    "## Download the data"
   ]
  },
  {
   "cell_type": "code",
   "execution_count": 2,
   "id": "837533c2",
   "metadata": {},
   "outputs": [
    {
     "name": "stdout",
     "output_type": "stream",
     "text": [
      "File already exists: ../data/raw/fiscalite_et_les_depenses_publiques.csv\n"
     ]
    }
   ],
   "source": [
    "import hashlib\n",
    "import requests\n",
    "from pathlib import Path\n",
    "\n",
    "# Define the URL and expected SHA-1 checksum\n",
    "url = \"https://www.data.gouv.fr/fr/datasets/r/bc085888-e6bd-445d-b3f4-632190c29e3f\"\n",
    "expected_sha1 = \"90540350af64eb61f8a9823c83468934b19634c1\"\n",
    "\n",
    "# Define the target directory and file path\n",
    "data_dir = Path(\"../data/raw\")\n",
    "data_dir.mkdir(parents=True, exist_ok=True)\n",
    "file_path = data_dir / \"fiscalite_et_les_depenses_publiques.csv\"\n",
    "\n",
    "# Check if the file already exists\n",
    "if file_path.exists():\n",
    "    print(f\"File already exists: {file_path}\")\n",
    "else:\n",
    "    # Download the file if it doesn't exist\n",
    "    print(f\"Downloading file: {file_path}\")\n",
    "    response = requests.get(url)\n",
    "    response.raise_for_status()  # Raise an error for bad HTTP responses\n",
    "    file_path.write_bytes(response.content)\n",
    "\n",
    "    # Verify the SHA-1 checksum\n",
    "    sha1 = hashlib.sha1()\n",
    "    with file_path.open(\"rb\") as f:\n",
    "        while chunk := f.read(8192):\n",
    "            sha1.update(chunk)\n",
    "    calculated_sha1 = sha1.hexdigest()\n",
    "    if calculated_sha1 == expected_sha1:\n",
    "        print(\"SHA-1 checksum verified successfully.\")\n",
    "    else:\n",
    "        print(f\"SHA-1 checksum mismatch! Expected: {expected_sha1}, Got: {calculated_sha1}\")"
   ]
  },
  {
   "cell_type": "markdown",
   "id": "82e0e551",
   "metadata": {},
   "source": [
    "## Read the data"
   ]
  },
  {
   "cell_type": "code",
   "execution_count": null,
   "id": "a4a94ddb",
   "metadata": {},
   "outputs": [
    {
     "name": "stderr",
     "output_type": "stream",
     "text": [
      "/tmp/ipykernel_6903/3825506075.py:3: DtypeWarning: Columns (7) have mixed types. Specify dtype option on import or set low_memory=False.\n",
      "  df = pd.read_csv(file_path, sep=\",\")\n"
     ]
    },
    {
     "data": {
      "text/plain": [
       "Index(['id', 'reference', 'title', 'createdAt', 'publishedAt', 'updatedAt',\n",
       "       'trashed', 'trashedStatus', 'authorId', 'authorType', 'authorZipCode',\n",
       "       'QUXVlc3Rpb246MTYy - Quelles sont toutes les choses qui pourraient être faites pour améliorer l'information des citoyens sur l'utilisation des impôts ?',\n",
       "       'QUXVlc3Rpb246MTYz - Que faudrait-il faire pour rendre la fiscalité plus juste et plus efficace ?',\n",
       "       'QUXVlc3Rpb246MTY0 - Quels sont selon vous les impôts qu'il faut baisser en priorité ?',\n",
       "       'QUXVlc3Rpb246MjA2 - Afin de financer les dépenses sociales, faut-il selon vous...',\n",
       "       'QUXVlc3Rpb246MjA1 - S'il faut selon vous revoir les conditions d'attribution de certaines aides sociales, lesquelles doivent être concernées ?',\n",
       "       'QUXVlc3Rpb246MTY1 - Quels sont les domaines prioritaires où notre protection sociale doit être renforcée ?',\n",
       "       'QUXVlc3Rpb246MTY2 - Pour quelle(s) politique(s) publique(s) ou pour quels domaines d'action publique, seriez-vous prêts à payer plus d'impôts ?',\n",
       "       'QUXVlc3Rpb246MTY3 - Y a-t-il d'autres points sur les impôts et les dépenses sur lesquels vous souhaiteriez vous exprimer ?'],\n",
       "      dtype='object')"
      ]
     },
     "execution_count": 9,
     "metadata": {},
     "output_type": "execute_result"
    }
   ],
   "source": [
    "import pandas as pd\n",
    "\n",
    "df = pd.read_csv(file_path, sep=\",\")\n",
    "print(df.columns)"
   ]
  },
  {
   "cell_type": "markdown",
   "id": "098d6786",
   "metadata": {},
   "source": [
    "Pay attention only to the following question for the proof-of-concept (POC):\n",
    "> 'QUXVlc3Rpb246MTYz - Que faudrait-il faire pour rendre la fiscalité plus juste et plus efficace ?'"
   ]
  },
  {
   "cell_type": "code",
   "execution_count": 26,
   "id": "caa6d604",
   "metadata": {},
   "outputs": [],
   "source": [
    "col_name = \"QUXVlc3Rpb246MTYz - Que faudrait-il faire pour rendre la fiscalité plus juste et plus efficace ?\"\n",
    "df_contrib = df[['authorId', col_name]].rename(\n",
    "    {col_name:'contribution'},\n",
    "    axis=1)"
   ]
  },
  {
   "cell_type": "code",
   "execution_count": 27,
   "id": "9ab4ca98",
   "metadata": {},
   "outputs": [
    {
     "data": {
      "text/html": [
       "<div>\n",
       "<style scoped>\n",
       "    .dataframe tbody tr th:only-of-type {\n",
       "        vertical-align: middle;\n",
       "    }\n",
       "\n",
       "    .dataframe tbody tr th {\n",
       "        vertical-align: top;\n",
       "    }\n",
       "\n",
       "    .dataframe thead th {\n",
       "        text-align: right;\n",
       "    }\n",
       "</style>\n",
       "<table border=\"1\" class=\"dataframe\">\n",
       "  <thead>\n",
       "    <tr style=\"text-align: right;\">\n",
       "      <th></th>\n",
       "      <th>authorId</th>\n",
       "      <th>contribution</th>\n",
       "    </tr>\n",
       "  </thead>\n",
       "  <tbody>\n",
       "    <tr>\n",
       "      <th>0</th>\n",
       "      <td>VXNlcjo3ZTVjYTUwMi0xZDZlLTExZTktOTRkMi1mYTE2M2...</td>\n",
       "      <td>NaN</td>\n",
       "    </tr>\n",
       "    <tr>\n",
       "      <th>1</th>\n",
       "      <td>VXNlcjo5NmNhYWM4ZS0xZTIwLTExZTktOTRkMi1mYTE2M2...</td>\n",
       "      <td>NaN</td>\n",
       "    </tr>\n",
       "    <tr>\n",
       "      <th>2</th>\n",
       "      <td>VXNlcjo3ZTVjYTUwMi0xZDZlLTExZTktOTRkMi1mYTE2M2...</td>\n",
       "      <td>NaN</td>\n",
       "    </tr>\n",
       "    <tr>\n",
       "      <th>3</th>\n",
       "      <td>VXNlcjpjNDY0ZjllMy0xZDk4LTExZTktOTRkMi1mYTE2M2...</td>\n",
       "      <td>Repartir les richesses.  suppression de la tax...</td>\n",
       "    </tr>\n",
       "    <tr>\n",
       "      <th>4</th>\n",
       "      <td>VXNlcjo3MDdkM2IzOC0xZDYxLTExZTktOTRkMi1mYTE2M2...</td>\n",
       "      <td>Les droits soient automatiques, comme nos devo...</td>\n",
       "    </tr>\n",
       "  </tbody>\n",
       "</table>\n",
       "</div>"
      ],
      "text/plain": [
       "                                            authorId  \\\n",
       "0  VXNlcjo3ZTVjYTUwMi0xZDZlLTExZTktOTRkMi1mYTE2M2...   \n",
       "1  VXNlcjo5NmNhYWM4ZS0xZTIwLTExZTktOTRkMi1mYTE2M2...   \n",
       "2  VXNlcjo3ZTVjYTUwMi0xZDZlLTExZTktOTRkMi1mYTE2M2...   \n",
       "3  VXNlcjpjNDY0ZjllMy0xZDk4LTExZTktOTRkMi1mYTE2M2...   \n",
       "4  VXNlcjo3MDdkM2IzOC0xZDYxLTExZTktOTRkMi1mYTE2M2...   \n",
       "\n",
       "                                        contribution  \n",
       "0                                                NaN  \n",
       "1                                                NaN  \n",
       "2                                                NaN  \n",
       "3  Repartir les richesses.  suppression de la tax...  \n",
       "4  Les droits soient automatiques, comme nos devo...  "
      ]
     },
     "execution_count": 27,
     "metadata": {},
     "output_type": "execute_result"
    }
   ],
   "source": [
    "df_contrib.head()"
   ]
  },
  {
   "cell_type": "markdown",
   "id": "6d7c3473",
   "metadata": {},
   "source": [
    "## Parse the data into the arrow/parquet format"
   ]
  },
  {
   "cell_type": "code",
   "execution_count": 30,
   "id": "89ad563b",
   "metadata": {},
   "outputs": [],
   "source": [
    "from datasets import Dataset\n",
    "import numpy as np"
   ]
  },
  {
   "cell_type": "code",
   "execution_count": 28,
   "id": "fd65f003",
   "metadata": {},
   "outputs": [
    {
     "name": "stdout",
     "output_type": "stream",
     "text": [
      "DatasetInfo(description='', citation='', homepage='', license='', features={'authorId': Value(dtype='string', id=None), 'contribution': Value(dtype='string', id=None)}, post_processed=None, supervised_keys=None, task_templates=None, builder_name=None, dataset_name=None, config_name=None, version=None, splits=None, download_checksums=None, download_size=None, post_processing_size=None, dataset_size=None, size_in_bytes=None)\n"
     ]
    }
   ],
   "source": [
    "dataset = Dataset.from_pandas(df_contrib)\n",
    "print(dataset.info)"
   ]
  },
  {
   "cell_type": "code",
   "execution_count": 34,
   "id": "2e45fae6",
   "metadata": {},
   "outputs": [
    {
     "data": {
      "text/plain": [
       "{'authorId': 'VXNlcjpkZWE1ODYxOC0yNmYxLTExZTktOTRkMi1mYTE2M2VlYjExZTE=',\n",
       " 'contribution': 'Supprimer toutes  les taxes et imposer tous les revenus au même taux.'}"
      ]
     },
     "execution_count": 34,
     "metadata": {},
     "output_type": "execute_result"
    }
   ],
   "source": [
    "n = np.random.randint(0, dataset.num_rows)\n",
    "dataset[n]"
   ]
  },
  {
   "cell_type": "code",
   "execution_count": 39,
   "id": "4ecca7d2",
   "metadata": {},
   "outputs": [
    {
     "name": "stderr",
     "output_type": "stream",
     "text": [
      "Saving the dataset (1/1 shards): 100%|██████████| 186711/186711 [00:00<00:00, 373371.97 examples/s]\n"
     ]
    }
   ],
   "source": [
    "save_path = data_dir / \"contributions\"\n",
    "save_path.mkdir(parents=True, exist_ok=True)\n",
    "dataset.save_to_disk(str(save_path.resolve()))"
   ]
  }
 ],
 "metadata": {
  "kernelspec": {
   "display_name": "perspectiva",
   "language": "python",
   "name": "python3"
  },
  "language_info": {
   "codemirror_mode": {
    "name": "ipython",
    "version": 3
   },
   "file_extension": ".py",
   "mimetype": "text/x-python",
   "name": "python",
   "nbconvert_exporter": "python",
   "pygments_lexer": "ipython3",
   "version": "3.11.9"
  }
 },
 "nbformat": 4,
 "nbformat_minor": 5
}
